{
  "nbformat": 4,
  "nbformat_minor": 0,
  "metadata": {
    "colab": {
      "provenance": []
    },
    "kernelspec": {
      "name": "python3",
      "display_name": "Python 3"
    },
    "language_info": {
      "name": "python"
    }
  },
  "cells": [
    {
      "cell_type": "markdown",
      "source": [
        "# $\\mathbb{Q}$ is not a Complete Metric Space\n",
        "\n",
        "### Complete Metric Space\n",
        "\n",
        "* **Definition**: A metric space $ E $ is complete if every Cauchy sequence in $E $ converges to a limit $ l \\in E$.\n",
        "\n",
        "* **Intuition and Meaning**: This property means that $ E $ contains all \"limit points\" of Cauchy sequences in $ E $, so there are no \"missing points\" in $ E $. In other words, if $ E $ is complete, the limit $l$ of any Cauchy sequence in $ E $ will always belong to the closure of $ E $, denoted $\\overline{E} $.\n"
      ],
      "metadata": {
        "id": "q7L4URLT1u4u"
      }
    },
    {
      "cell_type": "markdown",
      "source": [
        "$\\mathbb{Q}$ is not a complete metric space since we can construct a cauchy sequence of rationals that does converges in $\\mathbb{R}$.\n",
        "\n",
        "For instance let's look at this example:\n",
        "\n",
        "$(x_n)_{n ∈ \\mathbb{N}}$ defined by: $ ∀ n ∈ \\mathbb{N}$, $x_n$ = $\\frac{\\lfloor 10^n \\cdot \\sqrt{2} \\rfloor}{10^n}$.\n",
        "\n",
        "$∀ n \\in \\mathbb{N}$      $x_n \\in \\mathbb{Q}$, hence it is a rational cauchy sequence."
      ],
      "metadata": {
        "id": "AKf6TxPs6XM8"
      }
    },
    {
      "cell_type": "code",
      "source": [
        "import math\n",
        "x_n = lambda n: math.floor(10**n * math.sqrt(2)) / 10**n\n",
        "n = 0\n",
        "eps = 1e-10\n",
        "\n",
        "while abs(x_n(n + 1) - x_n(n)) > eps:\n",
        "    n += 1\n",
        "print(f\"converges: \", x_n(n + 1))"
      ],
      "metadata": {
        "colab": {
          "base_uri": "https://localhost:8080/"
        },
        "id": "1ZoW9Xk66WYL",
        "outputId": "2f55318f-a60c-4252-eefb-bf450281ea2a"
      },
      "execution_count": 9,
      "outputs": [
        {
          "output_type": "stream",
          "name": "stdout",
          "text": [
            "converges:  1.41421356237\n"
          ]
        }
      ]
    }
  ]
}